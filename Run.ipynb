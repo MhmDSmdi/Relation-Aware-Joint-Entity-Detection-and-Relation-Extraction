{
  "nbformat": 4,
  "nbformat_minor": 0,
  "metadata": {
    "colab": {
      "name": "Run.ipynb",
      "provenance": [],
      "collapsed_sections": []
    },
    "kernelspec": {
      "name": "python3",
      "display_name": "Python 3"
    },
    "language_info": {
      "name": "python"
    },
    "accelerator": "GPU"
  },
  "cells": [
    {
      "cell_type": "markdown",
      "source": [
        "## Cloning the Git repository"
      ],
      "metadata": {
        "id": "T3hQxcKijRXa"
      }
    },
    {
      "cell_type": "code",
      "execution_count": null,
      "metadata": {
        "colab": {
          "base_uri": "https://localhost:8080/"
        },
        "id": "DWwwtDgajDr-",
        "outputId": "77cd8340-9384-4bd0-858b-84e92233d1aa"
      },
      "outputs": [
        {
          "output_type": "stream",
          "name": "stdout",
          "text": [
            "Cloning into 'Relation-Aware-Joint-Entity-Detection-and-Relation-Extraction'...\n",
            "remote: Enumerating objects: 88, done.\u001b[K\n",
            "remote: Counting objects: 100% (88/88), done.\u001b[K\n",
            "remote: Compressing objects: 100% (50/50), done.\u001b[K\n",
            "remote: Total 88 (delta 39), reused 79 (delta 33), pack-reused 0\u001b[K\n",
            "Unpacking objects: 100% (88/88), done.\n"
          ]
        }
      ],
      "source": [
        "!git clone https://github.com/MhmDSmdi/Relation-Aware-Joint-Entity-Detection-and-Relation-Extraction.git"
      ]
    },
    {
      "cell_type": "markdown",
      "source": [
        "## Downloading the checkpoints"
      ],
      "metadata": {
        "id": "rY65qJxfhqf1"
      }
    },
    {
      "cell_type": "markdown",
      "source": [
        "Please download the following files, which are our trained models, and put them in the ``/checkpoints`` directory.\n",
        "* Rethinking: https://drive.google.com/file/d/1LG4EZqodlsOefmZD3p-DIqBV8B_A1_HM/view?usp=sharing\n",
        "* CASREL: https://drive.google.com/file/d/13s1OKnsjBUkAMuUwe_nEgT1Ua4gHfrMX/view?usp=sharing"
      ],
      "metadata": {
        "id": "pLHI3_42jtna"
      }
    },
    {
      "cell_type": "markdown",
      "source": [
        "## Installing Requirements"
      ],
      "metadata": {
        "id": "XvhLej3nht28"
      }
    },
    {
      "cell_type": "code",
      "source": [
        "import torch\n",
        "import os\n",
        "os.chdir('/content/Relation-Aware-Joint-Entity-Detection-and-Relation-Extraction')\n",
        "print(torch.cuda.get_device_name(0))\n",
        "\n",
        "!pip install keras-bert\n",
        "!pip install transformers"
      ],
      "metadata": {
        "id": "xZC4f5Asmqvv"
      },
      "execution_count": null,
      "outputs": []
    },
    {
      "cell_type": "markdown",
      "source": [
        "## Experiments"
      ],
      "metadata": {
        "id": "ELSLd9V-h379"
      }
    },
    {
      "cell_type": "markdown",
      "source": [
        "### Rethinking"
      ],
      "metadata": {
        "id": "Pt1j82v4h7Og"
      }
    },
    {
      "cell_type": "code",
      "source": [
        "!python test.py \\\n",
        "--model_name=\"Casrel_Rethinking\" \\\n",
        "--rel_num=171 \\\n",
        "--dataset=\"WebNLG\" \\\n",
        "--test_prefix=\"test_triples\" \\\n",
        "--path=\"/content/drive/MyDrive/UoA/Winter 2022/KnowledgeGraph/Relation-Aware-Joint-Entity-Detection-and-Relation-Extraction/Checkpoints/model_rethinking\" \\"
      ],
      "metadata": {
        "colab": {
          "base_uri": "https://localhost:8080/"
        },
        "id": "PDX84jszlSPl",
        "outputId": "b1fe5473-ba42-4499-e223-02f23e0ac8ec"
      },
      "execution_count": null,
      "outputs": [
        {
          "output_type": "stream",
          "name": "stdout",
          "text": [
            "GPU is available.\n",
            "Some weights of the model checkpoint at bert-base-uncased were not used when initializing BertModel: ['cls.seq_relationship.bias', 'cls.predictions.transform.LayerNorm.weight', 'cls.predictions.transform.dense.bias', 'cls.predictions.transform.LayerNorm.bias', 'cls.predictions.decoder.weight', 'cls.seq_relationship.weight', 'cls.predictions.transform.dense.weight', 'cls.predictions.bias']\n",
            "- This IS expected if you are initializing BertModel from the checkpoint of a model trained on another task or with another architecture (e.g. initializing a BertForSequenceClassification model from a BertForPreTraining model).\n",
            "- This IS NOT expected if you are initializing BertModel from the checkpoint of a model that you expect to be exactly identical (initializing a BertForSequenceClassification model from a BertForSequenceClassification model).\n",
            "correct_num: 1406, predict_num: 1572, gold_num: 1581\n",
            "TEST SET: f1: 0.8918, precision: 0.8944, recall: 0.8893\n"
          ]
        }
      ]
    },
    {
      "cell_type": "markdown",
      "source": [
        "### CASREL"
      ],
      "metadata": {
        "id": "EEROHsDBiHtX"
      }
    },
    {
      "cell_type": "code",
      "source": [
        "!python test.py \\\n",
        "--model_name=\"Casrel\" \\\n",
        "--rel_num=171 \\\n",
        "--dataset=\"WebNLG\" \\\n",
        "--test_prefix=\"test_triples\" \\\n",
        "--path=\"/content/drive/MyDrive/UoA/Winter 2022/KnowledgeGraph/Relation-Aware-Joint-Entity-Detection-and-Relation-Extraction/Checkpoints/model_casrel\" \\"
      ],
      "metadata": {
        "colab": {
          "base_uri": "https://localhost:8080/"
        },
        "id": "Jr0UCn8qUlsm",
        "outputId": "2535545a-ca14-405a-f28f-fd4bbf44991f"
      },
      "execution_count": null,
      "outputs": [
        {
          "output_type": "stream",
          "name": "stdout",
          "text": [
            "GPU is available.\n",
            "Some weights of the model checkpoint at bert-base-uncased were not used when initializing BertModel: ['cls.predictions.transform.LayerNorm.bias', 'cls.predictions.transform.dense.bias', 'cls.seq_relationship.bias', 'cls.seq_relationship.weight', 'cls.predictions.transform.dense.weight', 'cls.predictions.decoder.weight', 'cls.predictions.bias', 'cls.predictions.transform.LayerNorm.weight']\n",
            "- This IS expected if you are initializing BertModel from the checkpoint of a model trained on another task or with another architecture (e.g. initializing a BertForSequenceClassification model from a BertForPreTraining model).\n",
            "- This IS NOT expected if you are initializing BertModel from the checkpoint of a model that you expect to be exactly identical (initializing a BertForSequenceClassification model from a BertForSequenceClassification model).\n",
            "correct_num: 1409, predict_num: 1613, gold_num: 1581\n",
            "TEST SET: f1: 0.8823, precision: 0.8735, recall: 0.8912\n"
          ]
        }
      ]
    }
  ]
}